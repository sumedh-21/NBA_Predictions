{
 "cells": [
  {
   "cell_type": "code",
   "execution_count": 2,
   "metadata": {},
   "outputs": [
    {
     "name": "stdout",
     "output_type": "stream",
     "text": [
      "Cleaned data saved as nba_games_cleaned.csv\n"
     ]
    }
   ],
   "source": [
    "import pandas as pd\n",
    "\n",
    "# Load the CSV file\n",
    "df = pd.read_csv(\"nba_games.csv\")\n",
    "\n",
    "# Drop columns where all values are NaN\n",
    "df_cleaned = df.dropna(axis=1, how='all')\n",
    "\n",
    "# Drop columns where all values are empty strings\n",
    "df_cleaned = df_cleaned.loc[:, (df_cleaned != '').any(axis=0)]\n",
    "\n",
    "# If 'won' is in True/False format, convert it to binary\n",
    "if 'won' in df_cleaned.columns:\n",
    "    df_cleaned['won'] = df_cleaned['won'].astype(int)\n",
    "\n",
    "# Remove any columns that start with 'Unnamed'\n",
    "df_cleaned = df_cleaned.loc[:, ~df_cleaned.columns.str.contains('^Unnamed')]\n",
    "\n",
    "# Remove duplicate columns\n",
    "df_cleaned = df_cleaned.loc[:, ~df_cleaned.columns.duplicated()]\n",
    "\n",
    "# Remove specific unnecessary columns \n",
    "columns_to_drop = [col for col in df_cleaned.columns if \"_max\" in col or col in ['+/-', '+/-_opp','mp_max','mp_max_opp','mp.1','mp_opp.1']]\n",
    "df_cleaned = df_cleaned.drop(columns=columns_to_drop, errors='ignore')\n",
    "\n",
    "# Save the cleaned CSV without the index\n",
    "df_cleaned.to_csv(\"nba_games_cleaned.csv\")\n",
    "\n",
    "print(\"Cleaned data saved as nba_games_cleaned.csv\")\n"
   ]
  },
  {
   "cell_type": "code",
   "execution_count": null,
   "metadata": {},
   "outputs": [],
   "source": []
  }
 ],
 "metadata": {
  "kernelspec": {
   "display_name": "Python 3 (ipykernel)",
   "language": "python",
   "name": "python3"
  },
  "language_info": {
   "codemirror_mode": {
    "name": "ipython",
    "version": 3
   },
   "file_extension": ".py",
   "mimetype": "text/x-python",
   "name": "python",
   "nbconvert_exporter": "python",
   "pygments_lexer": "ipython3",
   "version": "3.8.1"
  }
 },
 "nbformat": 4,
 "nbformat_minor": 2
}
