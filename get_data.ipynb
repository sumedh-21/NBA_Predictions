{
 "cells": [
  {
   "cell_type": "code",
   "execution_count": 38,
   "metadata": {},
   "outputs": [],
   "source": [
    "import os"
   ]
  },
  {
   "cell_type": "code",
   "execution_count": 39,
   "metadata": {},
   "outputs": [],
   "source": [
    "from bs4 import BeautifulSoup\n"
   ]
  },
  {
   "cell_type": "code",
   "execution_count": 40,
   "metadata": {},
   "outputs": [
    {
     "name": "stdout",
     "output_type": "stream",
     "text": [
      "Requirement already satisfied: beautifulsoup4 in /Library/Frameworks/Python.framework/Versions/3.8/lib/python3.8/site-packages (4.12.3)\n",
      "Requirement already satisfied: soupsieve>1.2 in /Library/Frameworks/Python.framework/Versions/3.8/lib/python3.8/site-packages (from beautifulsoup4) (2.5)\n",
      "Note: you may need to restart the kernel to use updated packages.\n"
     ]
    }
   ],
   "source": [
    "%pip install beautifulsoup4"
   ]
  },
  {
   "cell_type": "code",
   "execution_count": 41,
   "metadata": {},
   "outputs": [
    {
     "name": "stdout",
     "output_type": "stream",
     "text": [
      "Requirement already satisfied: playwright in /Library/Frameworks/Python.framework/Versions/3.8/lib/python3.8/site-packages (1.47.0)\n",
      "Requirement already satisfied: greenlet==3.0.3 in /Library/Frameworks/Python.framework/Versions/3.8/lib/python3.8/site-packages (from playwright) (3.0.3)\n",
      "Requirement already satisfied: pyee==12.0.0 in /Library/Frameworks/Python.framework/Versions/3.8/lib/python3.8/site-packages (from playwright) (12.0.0)\n",
      "Requirement already satisfied: typing-extensions in /Library/Frameworks/Python.framework/Versions/3.8/lib/python3.8/site-packages (from pyee==12.0.0->playwright) (4.12.2)\n",
      "Note: you may need to restart the kernel to use updated packages.\n"
     ]
    }
   ],
   "source": [
    "%pip install playwright\n"
   ]
  },
  {
   "cell_type": "code",
   "execution_count": 42,
   "metadata": {},
   "outputs": [
    {
     "data": {
      "text/plain": [
       "0"
      ]
     },
     "execution_count": 42,
     "metadata": {},
     "output_type": "execute_result"
    }
   ],
   "source": [
    "os.system('playwright install')"
   ]
  },
  {
   "cell_type": "code",
   "execution_count": 43,
   "metadata": {},
   "outputs": [],
   "source": [
    "from playwright.async_api  import async_playwright, TimeoutError as PlaywrightTimeoutError\n",
    "import time"
   ]
  },
  {
   "cell_type": "code",
   "execution_count": 44,
   "metadata": {},
   "outputs": [
    {
     "name": "stdout",
     "output_type": "stream",
     "text": [
      "Requirement already satisfied: playwright in /Library/Frameworks/Python.framework/Versions/3.8/lib/python3.8/site-packages (1.47.0)\n",
      "Requirement already satisfied: greenlet==3.0.3 in /Library/Frameworks/Python.framework/Versions/3.8/lib/python3.8/site-packages (from playwright) (3.0.3)\n",
      "Requirement already satisfied: pyee==12.0.0 in /Library/Frameworks/Python.framework/Versions/3.8/lib/python3.8/site-packages (from playwright) (12.0.0)\n",
      "Requirement already satisfied: typing-extensions in /Library/Frameworks/Python.framework/Versions/3.8/lib/python3.8/site-packages (from pyee==12.0.0->playwright) (4.12.2)\n",
      "Note: you may need to restart the kernel to use updated packages.\n"
     ]
    }
   ],
   "source": [
    "%pip install playwright"
   ]
  },
  {
   "cell_type": "code",
   "execution_count": 45,
   "metadata": {},
   "outputs": [],
   "source": [
    "!playwright install"
   ]
  },
  {
   "cell_type": "code",
   "execution_count": 46,
   "metadata": {},
   "outputs": [],
   "source": [
    "SEASONS = list(range(2023,2025))"
   ]
  },
  {
   "cell_type": "code",
   "execution_count": 47,
   "metadata": {},
   "outputs": [
    {
     "data": {
      "text/plain": [
       "[2023, 2024]"
      ]
     },
     "execution_count": 47,
     "metadata": {},
     "output_type": "execute_result"
    }
   ],
   "source": [
    "SEASONS"
   ]
  },
  {
   "cell_type": "code",
   "execution_count": 48,
   "metadata": {},
   "outputs": [],
   "source": [
    "DATA_DIR = '/Users/sumedhmarathe/Documents/GitHub/NBA_Predictions/data'\n",
    "STANDINGS_DIR = os.path.join(DATA_DIR, 'standings')\n",
    "SCORES_DIR = os.path.join(DATA_DIR, 'scores')\n"
   ]
  },
  {
   "cell_type": "code",
   "execution_count": 49,
   "metadata": {},
   "outputs": [],
   "source": [
    "os.makedirs(DATA_DIR, exist_ok=True)\n",
    "os.makedirs(STANDINGS_DIR, exist_ok=True)\n",
    "os.makedirs(SCORES_DIR, exist_ok=True)"
   ]
  },
  {
   "cell_type": "code",
   "execution_count": 50,
   "metadata": {},
   "outputs": [
    {
     "name": "stdout",
     "output_type": "stream",
     "text": [
      "Name: playwright\n",
      "Version: 1.47.0\n",
      "Summary: A high-level API to automate web browsers\n",
      "Home-page: https://github.com/Microsoft/playwright-python\n",
      "Author: Microsoft Corporation\n",
      "Author-email: \n",
      "License: Apache-2.0\n",
      "Location: /Library/Frameworks/Python.framework/Versions/3.8/lib/python3.8/site-packages\n",
      "Requires: greenlet, pyee\n",
      "Required-by: \n",
      "Note: you may need to restart the kernel to use updated packages.\n"
     ]
    }
   ],
   "source": [
    "%pip show playwright\n"
   ]
  },
  {
   "cell_type": "code",
   "execution_count": 51,
   "metadata": {},
   "outputs": [
    {
     "name": "stdout",
     "output_type": "stream",
     "text": [
      "Name: playwright\n",
      "Version: 1.47.0\n",
      "Summary: A high-level API to automate web browsers\n",
      "Home-page: https://github.com/Microsoft/playwright-python\n",
      "Author: Microsoft Corporation\n",
      "Author-email: \n",
      "License: Apache-2.0\n",
      "Location: /Library/Frameworks/Python.framework/Versions/3.8/lib/python3.8/site-packages\n",
      "Requires: greenlet, pyee\n",
      "Required-by: \n"
     ]
    }
   ],
   "source": [
    "!pip show playwright"
   ]
  },
  {
   "cell_type": "code",
   "execution_count": 52,
   "metadata": {},
   "outputs": [],
   "source": [
    "async def get_html(url, selector,sleep=5, retries=3):\n",
    "  html = None\n",
    "  for i in range(1, retries+1):\n",
    "    (time.sleep(sleep*i))\n",
    "\n",
    "    try:\n",
    "      async with async_playwright() as p:\n",
    "        browser = await p.chromium.launch()\n",
    "        page = await browser.new_page()\n",
    "        await page.goto(url)\n",
    "        print(await page.title())\n",
    "        html = await page.inner_html(selector)\n",
    "    except PlaywrightTimeoutError:\n",
    "      print('TimeoutError on {url}')\n",
    "      continue\n",
    "    else:\n",
    "      break\n",
    "\n",
    "  return html"
   ]
  },
  {
   "cell_type": "code",
   "execution_count": 53,
   "metadata": {},
   "outputs": [],
   "source": [
    "async def scrape_season(season):\n",
    "  url = f'https://www.basketball-reference.com/leagues/NBA_{season}_games.html'\n",
    "  html = await get_html(url, '#content .filter')\n",
    "  \n",
    "  soup = BeautifulSoup(html)\n",
    "  links = soup.find_all('a')\n",
    "  hrefs = [l[\"href\"] for l in links]\n",
    "  standings_pages = [f\"https://basketball-reference.com{l}\" for l in hrefs]\n",
    "\n",
    "  for url in standings_pages:\n",
    "    save_path = os.path.join(STANDINGS_DIR, url.split('/')[-1])\n",
    "    if os.path.exists(save_path):\n",
    "      continue\n",
    "    html = await get_html(url, \"#all_schedule\")\n",
    "    with open(save_path,'w+') as f:\n",
    "      f.write(html)"
   ]
  },
  {
   "cell_type": "code",
   "execution_count": 54,
   "metadata": {},
   "outputs": [
    {
     "name": "stdout",
     "output_type": "stream",
     "text": [
      "TimeoutError on {url}\n",
      "TimeoutError on {url}\n",
      "2022-23 NBA Schedule | Basketball-Reference.com\n",
      "2023-24 NBA Schedule | Basketball-Reference.com\n",
      "2023-24 NBA Schedule | Basketball-Reference.com\n",
      "2023-24 NBA Schedule | Basketball-Reference.com\n",
      "TimeoutError on {url}\n",
      "2023-24 NBA Schedule | Basketball-Reference.com\n",
      "2023-24 NBA Schedule | Basketball-Reference.com\n",
      "2023-24 NBA Schedule | Basketball-Reference.com\n",
      "2023-24 NBA Schedule | Basketball-Reference.com\n",
      "2023-24 NBA Schedule | Basketball-Reference.com\n",
      "2023-24 NBA Schedule | Basketball-Reference.com\n",
      "2023-24 NBA Schedule | Basketball-Reference.com\n"
     ]
    }
   ],
   "source": [
    "for season in SEASONS:\n",
    "  await scrape_season(season)"
   ]
  },
  {
   "cell_type": "code",
   "execution_count": 55,
   "metadata": {},
   "outputs": [],
   "source": [
    "standings_pages = os.listdir(STANDINGS_DIR)"
   ]
  },
  {
   "cell_type": "code",
   "execution_count": null,
   "metadata": {},
   "outputs": [],
   "source": []
  }
 ],
 "metadata": {
  "kernelspec": {
   "display_name": "Python 3 (ipykernel)",
   "language": "python",
   "name": "python3"
  },
  "language_info": {
   "codemirror_mode": {
    "name": "ipython",
    "version": 3
   },
   "file_extension": ".py",
   "mimetype": "text/x-python",
   "name": "python",
   "nbconvert_exporter": "python",
   "pygments_lexer": "ipython3",
   "version": "3.8.1"
  }
 },
 "nbformat": 4,
 "nbformat_minor": 4
}
