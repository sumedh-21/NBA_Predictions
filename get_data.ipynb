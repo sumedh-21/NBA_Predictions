{
 "cells": [
  {
   "cell_type": "code",
   "execution_count": 1,
   "metadata": {},
   "outputs": [],
   "source": [
    "import os"
   ]
  },
  {
   "cell_type": "code",
   "execution_count": 2,
   "metadata": {},
   "outputs": [],
   "source": [
    "from bs4 import BeautifulSoup\n"
   ]
  },
  {
   "cell_type": "code",
   "execution_count": null,
   "metadata": {},
   "outputs": [],
   "source": [
    "%pip install beautifulsoup4"
   ]
  },
  {
   "cell_type": "code",
   "execution_count": null,
   "metadata": {},
   "outputs": [],
   "source": [
    "%pip install playwright\n"
   ]
  },
  {
   "cell_type": "code",
   "execution_count": null,
   "metadata": {},
   "outputs": [],
   "source": [
    "os.system('playwright install')"
   ]
  },
  {
   "cell_type": "code",
   "execution_count": 6,
   "metadata": {},
   "outputs": [],
   "source": [
    "from playwright.async_api  import async_playwright, TimeoutError as PlaywrightTimeoutError\n",
    "import time"
   ]
  },
  {
   "cell_type": "code",
   "execution_count": null,
   "metadata": {},
   "outputs": [],
   "source": [
    "%pip install playwright"
   ]
  },
  {
   "cell_type": "code",
   "execution_count": 8,
   "metadata": {},
   "outputs": [],
   "source": [
    "!playwright install"
   ]
  },
  {
   "cell_type": "code",
   "execution_count": 9,
   "metadata": {},
   "outputs": [],
   "source": [
    "SEASONS = list(range(2023,2025))"
   ]
  },
  {
   "cell_type": "code",
   "execution_count": null,
   "metadata": {},
   "outputs": [],
   "source": [
    "SEASONS"
   ]
  },
  {
   "cell_type": "code",
   "execution_count": 11,
   "metadata": {},
   "outputs": [],
   "source": [
    "DATA_DIR = '/Users/sumedhmarathe/Documents/GitHub/NBA_Predictions/data'\n",
    "STANDINGS_DIR = os.path.join(DATA_DIR, 'standings')\n",
    "SCORES_DIR = os.path.join(DATA_DIR, 'scores')\n"
   ]
  },
  {
   "cell_type": "code",
   "execution_count": 12,
   "metadata": {},
   "outputs": [],
   "source": [
    "os.makedirs(DATA_DIR, exist_ok=True)\n",
    "os.makedirs(STANDINGS_DIR, exist_ok=True)\n",
    "os.makedirs(SCORES_DIR, exist_ok=True)"
   ]
  },
  {
   "cell_type": "code",
   "execution_count": null,
   "metadata": {},
   "outputs": [],
   "source": [
    "%pip show playwright\n"
   ]
  },
  {
   "cell_type": "code",
   "execution_count": null,
   "metadata": {},
   "outputs": [],
   "source": [
    "!pip show playwright"
   ]
  },
  {
   "cell_type": "code",
   "execution_count": 24,
   "metadata": {},
   "outputs": [],
   "source": [
    "async def get_html(url, selector,sleep=5, retries=3):\n",
    "  html = None\n",
    "  for i in range(1, retries+1):\n",
    "    (time.sleep(sleep*i))\n",
    "\n",
    "    try:\n",
    "      async with async_playwright() as p:\n",
    "        browser = await p.chromium.launch()\n",
    "        page = await browser.new_page()\n",
    "        await page.goto(url)\n",
    "        print(await page.title())\n",
    "        html = await page.inner_html(selector)\n",
    "    except PlaywrightTimeoutError:\n",
    "      print('TimeoutError on {url}')\n",
    "      continue\n",
    "    else:\n",
    "      break\n",
    "\n",
    "  return html\n",
    "\n"
   ]
  },
  {
   "cell_type": "code",
   "execution_count": 25,
   "metadata": {},
   "outputs": [],
   "source": [
    "async def scrape_season(season):\n",
    "  url = f'https://www.basketball-reference.com/leagues/NBA_{season}_games.html'\n",
    "  html = await get_html(url, '#content .filter')\n",
    "  soup = BeautifulSoup(html)\n",
    "  links = soup.find_all('a')\n",
    "  hrefs = [l[\"href\"] for l in links]\n",
    "  standings_pages = [f\"https://basketball-reference.com{l}\" for l in hrefs]\n",
    "\n",
    "  for url in standings_pages:\n",
    "    save_path = os.path.join(STANDINGS_DIR, url.split('/')[-1])\n",
    "    if os.path.exists(save_path):\n",
    "      continue\n",
    "    html = await get_html(url, \"#all_schedule\")\n",
    "    with open(save_path,'w+') as f:\n",
    "      f.write(html)"
   ]
  },
  {
   "cell_type": "code",
   "execution_count": null,
   "metadata": {},
   "outputs": [],
   "source": [
    "for season in SEASONS:\n",
    "  await scrape_season(season)"
   ]
  },
  {
   "cell_type": "code",
   "execution_count": 26,
   "metadata": {},
   "outputs": [],
   "source": [
    "standings_pages = os.listdir(STANDINGS_DIR)"
   ]
  },
  {
   "cell_type": "code",
   "execution_count": 28,
   "metadata": {},
   "outputs": [],
   "source": [
    "async def scrape_game(standings_pages):\n",
    "  with open(standings_pages,'r') as f:\n",
    "    html = f.read()\n",
    "    soup = BeautifulSoup(html)\n",
    "    links = soup.find_all('a')\n",
    "    hrefs = [l.get('href') for l in links]\n",
    "    box_scores = [l for l in hrefs if l and \"boxscores\" in l and \".html\" in l]\n",
    "    box_scores = [f\"https://www.basketball-reference.com{l}\" for l in box_scores]\n",
    "    for url in box_scores:\n",
    "      save_path = os.path.join(SCORES_DIR, url.split('/')[-1])\n",
    "      if os.path.exists(save_path):\n",
    "        continue\n",
    "      html = await get_html(url, \"#content\")\n",
    "      if not html:\n",
    "        continue\n",
    "      with open(save_path,'w+') as f:\n",
    "        f.write(html)\n"
   ]
  },
  {
   "cell_type": "code",
   "execution_count": 29,
   "metadata": {},
   "outputs": [],
   "source": [
    "import pandas as pd"
   ]
  },
  {
   "cell_type": "code",
   "execution_count": 30,
   "metadata": {},
   "outputs": [],
   "source": [
    "standing_pages = [s for s in standings_pages if '.html' in s]"
   ]
  },
  {
   "cell_type": "code",
   "execution_count": null,
   "metadata": {},
   "outputs": [],
   "source": [
    "\n",
    "for f in standings_pages:\n",
    "  filepath = os.path.join(STANDINGS_DIR, f)\n",
    "  await scrape_game(filepath) \n"
   ]
  },
  {
   "cell_type": "code",
   "execution_count": null,
   "metadata": {},
   "outputs": [],
   "source": []
  }
 ],
 "metadata": {
  "kernelspec": {
   "display_name": "Python 3 (ipykernel)",
   "language": "python",
   "name": "python3"
  }
 },
 "nbformat": 4,
 "nbformat_minor": 4
}
